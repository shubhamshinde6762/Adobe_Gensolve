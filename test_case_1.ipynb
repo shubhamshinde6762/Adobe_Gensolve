{
 "cells": [
  {
   "cell_type": "code",
   "execution_count": 1,
   "metadata": {},
   "outputs": [],
   "source": [
    "from bezier_utils.basic import extract_bezier_curves\n",
    "from bezier_utils.linearity import is_approximately_linear_by_curvature\n",
    "from bezier_utils.square_approx import draw_quadrilateral_with_square, get_quadrilateral_and_square_vertices\n",
    "import numpy as np\n",
    "from scipy.spatial.distance import euclidean\n",
    "import matplotlib.pyplot as plt\n",
    "from geomutils.core import mediate_points, mediate_lines, create_polygon_lines, calculate_angle\n",
    "from geomutils.display import plot_polygon, plot_arrows_between_points\n",
    "from geomutils.polygons import order_points_clockwise, build_connection_map, get_all_points, remove_finder"
   ]
  },
  {
   "cell_type": "code",
   "execution_count": 2,
   "metadata": {},
   "outputs": [],
   "source": [
    "c, q = extract_bezier_curves('data/problems/frag0.svg')\n",
    "lines = []\n",
    "for curve in c:\n",
    "    if is_approximately_linear_by_curvature(curve, tolerance=0.01):\n",
    "        lines.append(np.array([curve[0], curve[-1]]))\n",
    "unmediated_points = []\n",
    "for line in lines:\n",
    "    unmediated_points.append(line[0])\n",
    "    unmediated_points.append(line[1])\n",
    "mediated_points = mediate_points(unmediated_points, 0.5)\n",
    "mediated_lines = mediate_lines(lines, mediated_points)\n",
    "connections = build_connection_map(mediated_lines)\n",
    "points = get_all_points(mediated_lines)\n",
    "ordered_points = order_points_clockwise(points, connections)\n",
    "remove_vertices = remove_finder(ordered_points)"
   ]
  },
  {
   "cell_type": "code",
   "execution_count": 3,
   "metadata": {},
   "outputs": [],
   "source": [
    "def remove_elements(list1, list2):\n",
    "    set2 = set(list2)\n",
    "    result = [item for item in list1 if item not in set2]\n",
    "    return result"
   ]
  },
  {
   "cell_type": "code",
   "execution_count": 4,
   "metadata": {},
   "outputs": [],
   "source": [
    "flattened_ordered_points = remove_elements(ordered_points, remove_vertices)\n",
    "flattened_polygon = create_polygon_lines(flattened_ordered_points)"
   ]
  },
  {
   "cell_type": "code",
   "execution_count": 5,
   "metadata": {},
   "outputs": [
    {
     "data": {
      "text/plain": [
       "[array([5.6649124, 3.4222874]),\n",
       " array([222.4353376,   3.4222874]),\n",
       " array([222.4353376, 220.1927126]),\n",
       " array([  5.6649124, 220.1927126])]"
      ]
     },
     "execution_count": 5,
     "metadata": {},
     "output_type": "execute_result"
    }
   ],
   "source": [
    "get_quadrilateral_and_square_vertices(flattened_polygon)"
   ]
  },
  {
   "cell_type": "code",
   "execution_count": null,
   "metadata": {},
   "outputs": [],
   "source": []
  }
 ],
 "metadata": {
  "kernelspec": {
   "display_name": "pytorch",
   "language": "python",
   "name": "python3"
  },
  "language_info": {
   "codemirror_mode": {
    "name": "ipython",
    "version": 3
   },
   "file_extension": ".py",
   "mimetype": "text/x-python",
   "name": "python",
   "nbconvert_exporter": "python",
   "pygments_lexer": "ipython3",
   "version": "3.9.19"
  }
 },
 "nbformat": 4,
 "nbformat_minor": 2
}
