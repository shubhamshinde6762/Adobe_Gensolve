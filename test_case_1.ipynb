{
 "cells": [
  {
   "cell_type": "code",
   "execution_count": 1,
   "metadata": {},
   "outputs": [],
   "source": [
    "from bezier_utils.basic import extract_bezier_curves\n",
    "from bezier_utils.linearity import is_approximately_linear_by_curvature\n",
    "from bezier_utils.square_approx import draw_quadrilateral_with_square, get_quadrilateral_and_square_vertices\n",
    "from bezier_utils.display import plot_bezier_curve_cubic\n",
    "from bezier_utils.circle_approx import process_bezier_and_circles\n",
    "import numpy as np\n",
    "from scipy.spatial.distance import euclidean\n",
    "import matplotlib.pyplot as plt\n",
    "from geomutils.core import mediate_points, mediate_lines, create_polygon_lines, calculate_angle, remove_elements\n",
    "from geomutils.display import plot_polygon, plot_arrows_between_points\n",
    "from geomutils.polygons import order_points_clockwise, build_connection_map, get_all_points, remove_finder\n",
    "from matplotlib.path import Path\n",
    "import matplotlib.patches as patches"
   ]
  },
  {
   "cell_type": "code",
   "execution_count": 2,
   "metadata": {},
   "outputs": [
    {
     "name": "stdout",
     "output_type": "stream",
     "text": [
      "Number of loops detected: 1\n"
     ]
    },
    {
     "data": {
      "text/plain": [
       "[array([[42.964, 70.031],\n",
       "        [53.818, 82.981],\n",
       "        [72.618, 71.863],\n",
       "        [80.894, 95.184]]),\n",
       " array([[ 80.894,  95.184],\n",
       "        [ 84.384, 105.02 ],\n",
       "        [ 81.922, 122.488],\n",
       "        [ 78.675, 132.286]]),\n",
       " array([[ 78.675, 132.286],\n",
       "        [ 70.545, 156.818],\n",
       "        [ 52.746, 144.905],\n",
       "        [ 38.041, 156.835]]),\n",
       " array([[176.5  ,  67.5  ],\n",
       "        [162.824,  84.239],\n",
       "        [142.542,  70.7  ],\n",
       "        [124.127,  82.523]]),\n",
       " array([[124.127,  82.523],\n",
       "        [101.588,  96.993],\n",
       "        [100.88 , 125.778],\n",
       "        [119.062, 142.128]]),\n",
       " array([[119.062, 142.128],\n",
       "        [132.572, 154.276],\n",
       "        [154.293, 151.112],\n",
       "        [165.864, 166.805]]),\n",
       " array([[ 13.245, 227.755],\n",
       "        [  7.16 , 152.655],\n",
       "        [  2.124,  76.843],\n",
       "        [  1.5  ,   1.5  ]]),\n",
       " array([[224.647, 215.68 ],\n",
       "        [188.164, 223.417],\n",
       "        [151.005, 227.398],\n",
       "        [113.922, 231.367]]),\n",
       " array([[113.922, 231.367],\n",
       "        [103.269, 232.507],\n",
       "        [ 92.589, 233.649],\n",
       "        [ 81.876, 233.579]]),\n",
       " array([[ 81.876, 233.579],\n",
       "        [ 73.447, 233.524],\n",
       "        [ 65.043, 232.719],\n",
       "        [ 56.652, 231.915]]),\n",
       " array([[ 56.652, 231.915],\n",
       "        [ 42.183, 230.528],\n",
       "        [ 27.714, 229.141],\n",
       "        [ 13.245, 227.755]]),\n",
       " array([[216.777,   2.107],\n",
       "        [231.219,  72.069],\n",
       "        [227.966, 144.319],\n",
       "        [224.647, 215.68 ]]),\n",
       " array([[  1.562,   1.876],\n",
       "        [ 73.301,   1.953],\n",
       "        [145.039,   2.03 ],\n",
       "        [216.778,   2.107]])]"
      ]
     },
     "execution_count": 2,
     "metadata": {},
     "output_type": "execute_result"
    }
   ],
   "source": [
    "c, looped, circle_fits = process_bezier_and_circles(extract_bezier_curves('data/problems/frag0.svg')[0])\n",
    "c"
   ]
  },
  {
   "cell_type": "code",
   "execution_count": 3,
   "metadata": {},
   "outputs": [
    {
     "data": {
      "text/plain": [
       "[(107.83991031128326, 114.4098857137046, 81.80420822039325)]"
      ]
     },
     "execution_count": 3,
     "metadata": {},
     "output_type": "execute_result"
    }
   ],
   "source": [
    "circle_fits"
   ]
  },
  {
   "cell_type": "code",
   "execution_count": 4,
   "metadata": {},
   "outputs": [
    {
     "data": {
      "text/plain": [
       "[array([[42.964, 70.031],\n",
       "        [53.818, 82.981],\n",
       "        [72.618, 71.863],\n",
       "        [80.894, 95.184]]),\n",
       " array([[ 80.894,  95.184],\n",
       "        [ 84.384, 105.02 ],\n",
       "        [ 81.922, 122.488],\n",
       "        [ 78.675, 132.286]]),\n",
       " array([[ 78.675, 132.286],\n",
       "        [ 70.545, 156.818],\n",
       "        [ 52.746, 144.905],\n",
       "        [ 38.041, 156.835]]),\n",
       " array([[176.5  ,  67.5  ],\n",
       "        [162.824,  84.239],\n",
       "        [142.542,  70.7  ],\n",
       "        [124.127,  82.523]]),\n",
       " array([[124.127,  82.523],\n",
       "        [101.588,  96.993],\n",
       "        [100.88 , 125.778],\n",
       "        [119.062, 142.128]]),\n",
       " array([[119.062, 142.128],\n",
       "        [132.572, 154.276],\n",
       "        [154.293, 151.112],\n",
       "        [165.864, 166.805]])]"
      ]
     },
     "execution_count": 4,
     "metadata": {},
     "output_type": "execute_result"
    }
   ],
   "source": [
    "lines = []\n",
    "unprocessed_beziers = []\n",
    "for curve in c:\n",
    "    if is_approximately_linear_by_curvature(curve, tolerance=0.01):\n",
    "        lines.append(np.array([curve[0], curve[-1]]))\n",
    "    else:\n",
    "        unprocessed_beziers.append(curve)\n",
    "unprocessed_beziers"
   ]
  },
  {
   "cell_type": "code",
   "execution_count": 5,
   "metadata": {},
   "outputs": [
    {
     "data": {
      "text/plain": [
       "[(113.922, 231.36700000000002),\n",
       " (81.876, 233.579),\n",
       " (56.652, 231.91500000000002)]"
      ]
     },
     "execution_count": 5,
     "metadata": {},
     "output_type": "execute_result"
    }
   ],
   "source": [
    "unmediated_points = []\n",
    "for line in lines:\n",
    "    unmediated_points.append(line[0])\n",
    "    unmediated_points.append(line[1])\n",
    "mediated_points = mediate_points(unmediated_points, 0.5)\n",
    "mediated_lines = mediate_lines(lines, mediated_points)\n",
    "connections = build_connection_map(mediated_lines)\n",
    "points = get_all_points(mediated_lines)\n",
    "ordered_points = order_points_clockwise(points, connections)\n",
    "remove_vertices = remove_finder(ordered_points)\n",
    "remove_vertices"
   ]
  },
  {
   "cell_type": "code",
   "execution_count": 6,
   "metadata": {},
   "outputs": [
    {
     "data": {
      "text/plain": [
       "[array([5.6649124, 3.4222874]),\n",
       " array([222.4353376,   3.4222874]),\n",
       " array([222.4353376, 220.1927126]),\n",
       " array([  5.6649124, 220.1927126])]"
      ]
     },
     "execution_count": 6,
     "metadata": {},
     "output_type": "execute_result"
    }
   ],
   "source": [
    "flattened_ordered_points = remove_elements(ordered_points, remove_vertices)\n",
    "flattened_polygon = create_polygon_lines(flattened_ordered_points)\n",
    "square_vertices = get_quadrilateral_and_square_vertices(flattened_polygon)\n",
    "square_vertices"
   ]
  },
  {
   "cell_type": "code",
   "execution_count": 7,
   "metadata": {},
   "outputs": [
    {
     "data": {
      "text/plain": [
       "[array([5.6649124, 3.4222874]),\n",
       " array([222.4353376,   3.4222874]),\n",
       " array([222.4353376, 220.1927126]),\n",
       " array([  5.6649124, 220.1927126])]"
      ]
     },
     "execution_count": 7,
     "metadata": {},
     "output_type": "execute_result"
    }
   ],
   "source": [
    "square_vertices"
   ]
  },
  {
   "cell_type": "code",
   "execution_count": 8,
   "metadata": {},
   "outputs": [
    {
     "data": {
      "text/plain": [
       "[(107.83991031128326, 114.4098857137046, 81.80420822039325)]"
      ]
     },
     "execution_count": 8,
     "metadata": {},
     "output_type": "execute_result"
    }
   ],
   "source": [
    "circle_fits"
   ]
  },
  {
   "cell_type": "code",
   "execution_count": 9,
   "metadata": {},
   "outputs": [
    {
     "data": {
      "text/plain": [
       "[array([[42.964, 70.031],\n",
       "        [53.818, 82.981],\n",
       "        [72.618, 71.863],\n",
       "        [80.894, 95.184]]),\n",
       " array([[ 80.894,  95.184],\n",
       "        [ 84.384, 105.02 ],\n",
       "        [ 81.922, 122.488],\n",
       "        [ 78.675, 132.286]]),\n",
       " array([[ 78.675, 132.286],\n",
       "        [ 70.545, 156.818],\n",
       "        [ 52.746, 144.905],\n",
       "        [ 38.041, 156.835]]),\n",
       " array([[176.5  ,  67.5  ],\n",
       "        [162.824,  84.239],\n",
       "        [142.542,  70.7  ],\n",
       "        [124.127,  82.523]]),\n",
       " array([[124.127,  82.523],\n",
       "        [101.588,  96.993],\n",
       "        [100.88 , 125.778],\n",
       "        [119.062, 142.128]]),\n",
       " array([[119.062, 142.128],\n",
       "        [132.572, 154.276],\n",
       "        [154.293, 151.112],\n",
       "        [165.864, 166.805]])]"
      ]
     },
     "execution_count": 9,
     "metadata": {},
     "output_type": "execute_result"
    }
   ],
   "source": [
    "unprocessed_beziers"
   ]
  },
  {
   "cell_type": "code",
   "execution_count": 10,
   "metadata": {},
   "outputs": [
    {
     "data": {
      "image/png": "[encoded data removed]",
      "text/plain": [
       "<Figure size 640x480 with 1 Axes>"
      ]
     },
     "metadata": {},
     "output_type": "display_data"
    }
   ],
   "source": [
    "circle = circle_fits[0]\n",
    "fig, ax = plt.subplots()\n",
    "for control_points in unprocessed_beziers:\n",
    "    plot_bezier_curve_cubic(ax, control_points)\n",
    "square_path = Path(square_vertices + [square_vertices[0]], closed=True)\n",
    "patch = patches.PathPatch(square_path, facecolor='none', edgecolor='green')\n",
    "ax.add_patch(patch)\n",
    "circle_patch = patches.Circle((circle[0], circle[1]), circle[2], edgecolor='red', facecolor='none')\n",
    "ax.add_patch(circle_patch)\n",
    "ax.set_xlim(-10, 240)\n",
    "ax.set_ylim(-10, 240)\n",
    "ax.set_aspect('equal', 'box')\n",
    "plt.xlabel('X-axis')\n",
    "plt.ylabel('Y-axis')\n",
    "plt.title('Bezier Curves, Square, and Circle')\n",
    "plt.grid(True)\n",
    "plt.show()\n"
   ]
  },
  {
   "cell_type": "code",
   "execution_count": null,
   "metadata": {},
   "outputs": [],
   "source": []
  }
 ],
 "metadata": {
  "kernelspec": {
   "display_name": "pytorch",
   "language": "python",
   "name": "python3"
  },
  "language_info": {
   "codemirror_mode": {
    "name": "ipython",
    "version": 3
   },
   "file_extension": ".py",
   "mimetype": "text/x-python",
   "name": "python",
   "nbconvert_exporter": "python",
   "pygments_lexer": "ipython3",
   "version": "3.9.19"
  }
 },
 "nbformat": 4,
 "nbformat_minor": 2
}
