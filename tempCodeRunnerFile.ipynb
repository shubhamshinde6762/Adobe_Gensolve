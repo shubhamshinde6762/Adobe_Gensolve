
import numpy as np
import matplotlib.pyplot as plt

def plot_all(valid_polygons, possible_circles, remaining_sides, curves, inverse_dict, merged_segments):
    plt.figure(figsize=(12, 12))

    # To collect all points for setting axis limits
    all_x = []
    all_y = []

    for best_fit_polygon, best_rotation_angle, best_radius in valid_polygons:
        all_x.extend(best_fit_polygon[:, 0])
        all_y.extend(best_fit_polygon[:, 1])
        plt.plot(np.append(best_fit_polygon[:, 0], best_fit_polygon[0, 0]), 
                 np.append(best_fit_polygon[:, 1], best_fit_polygon[0, 1]), 'ro-', label='Best Fit Polygon')

    for center, radius, circle_points in possible_circles:
        circle = plt.Circle(center, radius, color='b', fill=False)
        plt.gca().add_artist(circle)
        all_x.append(center[0] + radius)
        all_x.append(center[0] - radius)
        all_y.append(center[1] + radius)
        all_y.append(center[1] - radius)
        circle_points = np.array(circle_points)
        all_x.extend(circle_points[:, 0])
        all_y.extend(circle_points[:, 1])

    plotted_curves = set()
    for side in remaining_sides:
        # Try (a, b)
        if side in inverse_dict:
            curve_num = inverse_dict[side]
        # If (a, b) is not found, try (b, a)
        elif (side[1], side[0]) in inverse_dict:
            curve_num = inverse_dict[(side[1], side[0])]
        else:
            print(f"Side {side} not found in inverse_dict.")
            continue
        
        if curve_num not in plotted_curves:
            if curve_num in curves:
                points = curves[curve_num]
                # Unpack points into x_values and y_values
                x_values, y_values = zip(*points)
                all_x.extend(x_values)
                all_y.extend(y_values)
                plt.plot(x_values, y_values, label=f'Curve {curve_num}')
                plotted_curves.add(curve_num)

    print(inverse_dict)

        

    for segment in merged_segments:
        (x1, y1), (x2, y2) = segment
        all_x.extend([x1, x2])
        all_y.extend([y1, y2])
        plt.plot([x1, x2], [y1, y2], 'g-', label='Merged Segment')

    
    plt.axis((500, 500 ,500, 500))

    plt.xlabel('X-axis')
    plt.ylabel('Y-axis')
    plt.title('Valid Polygons, Possible Circles, Remaining Curves, and Merged Segments')
    plt.legend()
    plt.grid(True)
    plt.axis('equal')  # Ensures the aspect ratio is equal to avoid distortion
    plt.xlim(-100, 500)
    plt.ylim(-100, 500)
    plt.show()


plot_all(valid_polygons, possible_circles, remaining_sides, curves, inverse_dict, filtered_merged_segments)
print(remaining_sides)